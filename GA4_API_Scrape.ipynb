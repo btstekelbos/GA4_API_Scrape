{
 "cells": [
  {
   "cell_type": "code",
   "execution_count": 7,
   "metadata": {},
   "outputs": [],
   "source": [
    " #List of all the available variables\n",
    "#https://developers.google.com/analytics/devguides/reporting/data/v1/api-schema\n",
    "import numpy as np\n",
    "import pandas as pd\n",
    "import os\n",
    "from google.analytics.data_v1beta import BetaAnalyticsDataClient\n",
    "from google.analytics.data_v1beta.types import DateRange\n",
    "from google.analytics.data_v1beta.types import Dimension\n",
    "from google.analytics.data_v1beta.types import Metric\n",
    "from google.analytics.data_v1beta.types import RunReportRequest\n",
    "from google.analytics.data_v1beta.types import OrderBy\n",
    "\n",
    "# You need a json file linking to this file, in order to read all necessary information in to make the GA4 connection\n",
    "# Documentation can be found here: https://developers.google.com/analytics/devguides/reporting/data/v1\n",
    "os.environ[\"GOOGLE_APPLICATION_CREDENTIALS\"] = 'Quickstart-9bd06efe9b97.json'\n",
    "property_id = '351335983'\n",
    "\n",
    "client = BetaAnalyticsDataClient()\n",
    "\n"
   ]
  },
  {
   "cell_type": "code",
   "execution_count": 8,
   "metadata": {},
   "outputs": [],
   "source": [
    "## Format Report - run_report method\n",
    "def format_report(request):\n",
    "    response = client.run_report(request)\n",
    "    \n",
    "    # Row index\n",
    "    row_index_names = [header.name for header in response.dimension_headers]\n",
    "    row_header = []\n",
    "    for i in range(len(row_index_names)):\n",
    "        row_header.append([row.dimension_values[i].value for row in response.rows])\n",
    "\n",
    "    row_index_named = pd.MultiIndex.from_arrays(np.array(row_header), names = np.array(row_index_names))\n",
    "    # Row flat data\n",
    "    metric_names = [header.name for header in response.metric_headers]\n",
    "    data_values = []\n",
    "    for i in range(len(metric_names)):\n",
    "        data_values.append([row.metric_values[i].value for row in response.rows])\n",
    "\n",
    "    output = pd.DataFrame(data = np.transpose(np.array(data_values, dtype = 'f')), \n",
    "                          index = row_index_named, columns = metric_names)\n",
    "    return output"
   ]
  },
  {
   "cell_type": "code",
   "execution_count": 9,
   "metadata": {},
   "outputs": [],
   "source": [
    "request = RunReportRequest(\n",
    "        property='properties/'+property_id,\n",
    "        dimensions=[Dimension(name=\"month\"), \n",
    "                    Dimension(name=\"sessionMedium\")],\n",
    "        metrics=[Metric(name=\"averageSessionDuration\"), \n",
    "                 Metric(name=\"activeUsers\")],\n",
    "        order_bys = [OrderBy(dimension = {'dimension_name': 'month'}),\n",
    "                    OrderBy(dimension = {'dimension_name': 'sessionMedium'})],\n",
    "        date_ranges=[DateRange(start_date=\"2022-06-01\", end_date=\"today\")],\n",
    "    )\n",
    "\n",
    "\n",
    "\n",
    "output_df = format_report(request)"
   ]
  },
  {
   "cell_type": "code",
   "execution_count": 10,
   "metadata": {},
   "outputs": [
    {
     "data": {
      "text/html": [
       "<div>\n",
       "<style scoped>\n",
       "    .dataframe tbody tr th:only-of-type {\n",
       "        vertical-align: middle;\n",
       "    }\n",
       "\n",
       "    .dataframe tbody tr th {\n",
       "        vertical-align: top;\n",
       "    }\n",
       "\n",
       "    .dataframe thead th {\n",
       "        text-align: right;\n",
       "    }\n",
       "</style>\n",
       "<table border=\"1\" class=\"dataframe\">\n",
       "  <thead>\n",
       "    <tr style=\"text-align: right;\">\n",
       "      <th></th>\n",
       "      <th></th>\n",
       "      <th>averageSessionDuration</th>\n",
       "      <th>activeUsers</th>\n",
       "    </tr>\n",
       "    <tr>\n",
       "      <th>month</th>\n",
       "      <th>sessionMedium</th>\n",
       "      <th></th>\n",
       "      <th></th>\n",
       "    </tr>\n",
       "  </thead>\n",
       "  <tbody>\n",
       "    <tr>\n",
       "      <th rowspan=\"2\" valign=\"top\">01</th>\n",
       "      <th>(none)</th>\n",
       "      <td>196.912292</td>\n",
       "      <td>10.0</td>\n",
       "    </tr>\n",
       "    <tr>\n",
       "      <th>referral</th>\n",
       "      <td>1230.669067</td>\n",
       "      <td>1.0</td>\n",
       "    </tr>\n",
       "    <tr>\n",
       "      <th rowspan=\"2\" valign=\"top\">02</th>\n",
       "      <th>(none)</th>\n",
       "      <td>235.875214</td>\n",
       "      <td>8.0</td>\n",
       "    </tr>\n",
       "    <tr>\n",
       "      <th>referral</th>\n",
       "      <td>569.430603</td>\n",
       "      <td>1.0</td>\n",
       "    </tr>\n",
       "  </tbody>\n",
       "</table>\n",
       "</div>"
      ],
      "text/plain": [
       "                     averageSessionDuration  activeUsers\n",
       "month sessionMedium                                     \n",
       "01    (none)                     196.912292         10.0\n",
       "      referral                  1230.669067          1.0\n",
       "02    (none)                     235.875214          8.0\n",
       "      referral                   569.430603          1.0"
      ]
     },
     "execution_count": 10,
     "metadata": {},
     "output_type": "execute_result"
    }
   ],
   "source": [
    "output_df.head()"
   ]
  }
 ],
 "metadata": {
  "interpreter": {
   "hash": "daeac6d63815b337cdbc63cd820bf487f6113d664477cbf77ebc43f6393e9675"
  },
  "kernelspec": {
   "display_name": "Python 3.10.4 ('.env': venv)",
   "language": "python",
   "name": "python3"
  },
  "language_info": {
   "codemirror_mode": {
    "name": "ipython",
    "version": 3
   },
   "file_extension": ".py",
   "mimetype": "text/x-python",
   "name": "python",
   "nbconvert_exporter": "python",
   "pygments_lexer": "ipython3",
   "version": "3.10.4"
  },
  "orig_nbformat": 4
 },
 "nbformat": 4,
 "nbformat_minor": 2
}
